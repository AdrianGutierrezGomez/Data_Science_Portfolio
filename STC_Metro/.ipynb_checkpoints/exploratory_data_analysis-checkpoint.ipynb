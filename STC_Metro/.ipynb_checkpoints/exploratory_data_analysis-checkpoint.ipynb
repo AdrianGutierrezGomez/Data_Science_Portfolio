{
 "cells": [
  {
   "cell_type": "code",
   "execution_count": 26,
   "metadata": {},
   "outputs": [],
   "source": [
    "%matplotlib inline\n",
    "from scipy import stats\n",
    "from pathlib import Path\n",
    "import pandas as pd\n",
    "import numpy as np\n",
    "from scipy.stats import trim_mean\n",
    "from statsmodels import robust\n",
    "import wquantiles\n",
    "import seaborn as sns\n",
    "import matplotlib.pylab as plt"
   ]
  },
  {
   "cell_type": "markdown",
   "metadata": {},
   "source": [
    "# Organizing Data"
   ]
  },
  {
   "cell_type": "code",
   "execution_count": 67,
   "metadata": {},
   "outputs": [
    {
     "name": "stdout",
     "output_type": "stream",
     "text": [
      "           fecha  anio    mes    linea  estacion  afluencia\n",
      "0     2010-01-01  2010  Enero  Linea 1  Zaragoza      20227\n",
      "195   2010-01-02  2010  Enero  Linea 1  Zaragoza      50405\n",
      "465   2010-01-03  2010  Enero  Linea 1  Zaragoza      24618\n",
      "657   2010-01-04  2010  Enero  Linea 1  Zaragoza      60654\n",
      "780   2010-01-05  2010  Enero  Linea 1  Zaragoza      66837\n",
      "1047  2010-01-06  2010  Enero  Linea 1  Zaragoza      51980\n",
      "1170  2010-01-07  2010  Enero  Linea 1  Zaragoza      57813\n",
      "1490  2010-01-08  2010  Enero  Linea 1  Zaragoza      55981\n",
      "1641  2010-01-09  2010  Enero  Linea 1  Zaragoza      48085\n",
      "1873  2010-01-10  2010  Enero  Linea 1  Zaragoza      30171\n",
      "2065  2010-01-11  2010  Enero  Linea 1  Zaragoza      65649\n",
      "2263  2010-01-12  2010  Enero  Linea 1  Zaragoza      44332\n",
      "2340  2010-01-13  2010  Enero  Linea 1  Zaragoza      49462\n",
      "2604  2010-01-14  2010  Enero  Linea 1  Zaragoza      53209\n",
      "2730  2010-01-15  2010  Enero  Linea 1  Zaragoza      60354\n",
      "3115  2010-01-16  2010  Enero  Linea 1  Zaragoza      49771\n",
      "3120  2010-01-17  2010  Enero  Linea 1  Zaragoza      32472\n",
      "3380  2010-01-18  2010  Enero  Linea 1  Zaragoza      62221\n",
      "3701  2010-01-19  2010  Enero  Linea 1  Zaragoza      61470\n",
      "3705  2010-01-20  2010  Enero  Linea 1  Zaragoza      60911\n",
      "4016  2010-01-21  2010  Enero  Linea 1  Zaragoza      57037\n",
      "4096  2010-01-22  2010  Enero  Linea 1  Zaragoza      62798\n",
      "4290  2010-01-23  2010  Enero  Linea 1  Zaragoza      48071\n",
      "4557  2010-01-24  2010  Enero  Linea 1  Zaragoza      25464\n",
      "4742  2010-01-25  2010  Enero  Linea 1  Zaragoza      62177\n",
      "4938  2010-01-26  2010  Enero  Linea 1  Zaragoza      56497\n",
      "5183  2010-01-27  2010  Enero  Linea 1  Zaragoza      56225\n",
      "5266  2010-01-28  2010  Enero  Linea 1  Zaragoza      65687\n",
      "5460  2010-01-29  2010  Enero  Linea 1  Zaragoza      59122\n",
      "5780  2010-01-30  2010  Enero  Linea 1  Zaragoza      47245\n"
     ]
    }
   ],
   "source": [
    "metro_data = pd.read_csv(\"afluenciastc_simple_12_2022.csv\", encoding='latin')\n",
    "#print(influx_metro.head(15))\n",
    "metro_data_line_1 = metro_data[metro_data.linea == \"Linea 1\"]\n",
    "metro_data_line_1_Zara = metro_data_line_1[metro_data_line_1.estacion == \"Zaragoza\"]\n",
    "print(metro_data_line_1_Zara.head(30))"
   ]
  },
  {
   "cell_type": "markdown",
   "metadata": {},
   "source": [
    "# Measures of centrality (Mean, Median)\n"
   ]
  },
  {
   "cell_type": "code",
   "execution_count": 57,
   "metadata": {},
   "outputs": [
    {
     "name": "stdout",
     "output_type": "stream",
     "text": [
      "         fecha  anio    mes    linea             estacion  afluencia\n",
      "0   2010-01-01  2010  Enero  Linea 1             Zaragoza      20227\n",
      "1   2010-01-01  2010  Enero  Linea 1  Isabel la CatÃ³lica       6487\n",
      "2   2010-01-01  2010  Enero  Linea 1            Moctezuma      10304\n",
      "3   2010-01-01  2010  Enero  Linea 1         Pino SuÃ¡rez       8679\n",
      "4   2010-01-01  2010  Enero  Linea 1       GÃ³mez FarÃ­as      19499\n",
      "5   2010-01-01  2010  Enero  Linea 6  Deptvo. 18 de Marzo        621\n",
      "6   2010-01-01  2010  Enero  Linea 6    La Villa-Basilica      24792\n",
      "7   2010-01-01  2010  Enero  Linea 9           PantitlÃ¡n      27000\n",
      "8   2010-01-01  2010  Enero  Linea 8               Aculco       3652\n",
      "9   2010-01-01  2010  Enero  Linea 9           VelÃ³dromo       3239\n",
      "10  2010-01-01  2010  Enero  Linea 5  Autobuses del Norte      16824\n",
      "11  2010-01-01  2010  Enero  Linea 5            Misterios       3513\n",
      "12  2010-01-01  2010  Enero  Linea 7       Constituyentes       1417\n",
      "13  2010-01-01  2010  Enero  Linea 7           RefinerÃ­a       2325\n",
      "14  2010-01-01  2010  Enero  Linea 3             EtiopÃ­a       7078\n",
      "Mean = 20409.2304732897\n",
      "Median = 14907.0\n"
     ]
    }
   ],
   "source": [
    "metro_influx = metro_data[\"afluencia\"]\n",
    "#Getting the mean of the dataframe, however it is not entirely correct\n",
    "mean = metro_influx.mean()\n",
    "#Median\n",
    "median = metro_influx.median()\n",
    "print(f\"Mean = {mean}\")\n",
    "print(\"Median =\",median)"
   ]
  },
  {
   "cell_type": "markdown",
   "metadata": {},
   "source": [
    "# Measures of variability (STD, IQR, MAD)"
   ]
  },
  {
   "cell_type": "code",
   "execution_count": 49,
   "metadata": {},
   "outputs": [
    {
     "name": "stdout",
     "output_type": "stream",
     "text": [
      "Standard Deviation = 20198.750548652955\n",
      "IQR = 18839.0\n",
      "MAD = 12751.861681366683\n"
     ]
    }
   ],
   "source": [
    "#Standard Deviation\n",
    "standard_deviation = metro_influx.std()\n",
    "#Interquartile range\n",
    "IQR = metro_influx.quantile(0.75) - metro_influx.quantile(0.25)\n",
    "#Median Absolute Deviation (MAD)\n",
    "MAD = robust.scale.mad(metro_influx)\n",
    "print(f\"Standard Deviation = {standard_deviation}\")\n",
    "print(f\"IQR = {IQR}\")\n",
    "print(\"MAD =\",MAD)\n"
   ]
  },
  {
   "cell_type": "markdown",
   "metadata": {},
   "source": [
    "# Exploring data"
   ]
  },
  {
   "cell_type": "code",
   "execution_count": 56,
   "metadata": {},
   "outputs": [
    {
     "data": {
      "text/plain": [
       "Text(0, 0.5, 'Influx (thousands)')"
      ]
     },
     "execution_count": 56,
     "metadata": {},
     "output_type": "execute_result"
    },
    {
     "data": {
      "image/png": "[encoded data removed]",
      "text/plain": [
       "<Figure size 432x288 with 1 Axes>"
      ]
     },
     "metadata": {
      "needs_background": "light"
     },
     "output_type": "display_data"
    }
   ],
   "source": [
    "#metro_influx.quantile([0.05,0.25,0.5,0.75,0.95])\n",
    "#Boxplot\n",
    "ax = (metro_influx/1000).plot.box()\n",
    "ax.set_ylabel(\"Influx (thousands)\")"
   ]
  },
  {
   "cell_type": "code",
   "execution_count": null,
   "metadata": {},
   "outputs": [],
   "source": [
    " "
   ]
  }
 ],
 "metadata": {
  "kernelspec": {
   "display_name": "Python 3 (ipykernel)",
   "language": "python",
   "name": "python3"
  },
  "language_info": {
   "codemirror_mode": {
    "name": "ipython",
    "version": 3
   },
   "file_extension": ".py",
   "mimetype": "text/x-python",
   "name": "python",
   "nbconvert_exporter": "python",
   "pygments_lexer": "ipython3",
   "version": "3.11.0"
  },
  "vscode": {
   "interpreter": {
    "hash": "916dbcbb3f70747c44a77c7bcd40155683ae19c65e1c03b4aa3499c5328201f1"
   }
  }
 },
 "nbformat": 4,
 "nbformat_minor": 2
}
