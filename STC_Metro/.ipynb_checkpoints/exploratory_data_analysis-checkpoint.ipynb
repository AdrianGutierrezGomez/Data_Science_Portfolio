{
 "cells": [
  {
   "cell_type": "code",
   "execution_count": 2,
   "metadata": {},
   "outputs": [],
   "source": [
    "%matplotlib inline\n",
    "from scipy import stats\n",
    "from pathlib import Path\n",
    "import pandas as pd\n",
    "import numpy as np\n",
    "from scipy.stats import trim_mean\n",
    "from statsmodels import robust\n",
    "import wquantiles\n",
    "import seaborn as sns\n",
    "import matplotlib.pylab as plt"
   ]
  },
  {
   "cell_type": "markdown",
   "metadata": {},
   "source": [
    "# Original Data\n",
    "source : https://datos.cdmx.gob.mx/dataset/afluencia-diaria-del-metro-cdmx"
   ]
  },
  {
   "cell_type": "code",
   "execution_count": 81,
   "metadata": {},
   "outputs": [
    {
     "name": "stdout",
     "output_type": "stream",
     "text": [
      "        fecha  anio    mes    linea             estacion  afluencia\n",
      "0  2010-01-01  2010  Enero  Linea 1             Zaragoza      20227\n",
      "1  2010-01-01  2010  Enero  Linea 1  Isabel la CatÃ³lica       6487\n",
      "2  2010-01-01  2010  Enero  Linea 1            Moctezuma      10304\n",
      "3  2010-01-01  2010  Enero  Linea 1         Pino SuÃ¡rez       8679\n",
      "4  2010-01-01  2010  Enero  Linea 1       GÃ³mez FarÃ­as      19499\n"
     ]
    }
   ],
   "source": [
    "metro_data = pd.read_csv(\"afluenciastc_simple_12_2022.csv\", encoding='latin')\n",
    "print(metro_data.head())"
   ]
  },
  {
   "cell_type": "markdown",
   "metadata": {},
   "source": [
    "# Organizing Data"
   ]
  },
  {
   "cell_type": "code",
   "execution_count": 85,
   "metadata": {},
   "outputs": [
    {
     "name": "stdout",
     "output_type": "stream",
     "text": [
      "        date  year    mes    linea             estacion  influx\n",
      "0 2010-01-01  2010  Enero  Linea 1             Zaragoza   20227\n",
      "1 2010-01-01  2010  Enero  Linea 1  Isabel la CatÃ³lica    6487\n",
      "2 2010-01-01  2010  Enero  Linea 1            Moctezuma   10304\n",
      "3 2010-01-01  2010  Enero  Linea 1         Pino SuÃ¡rez    8679\n",
      "4 2010-01-01  2010  Enero  Linea 1       GÃ³mez FarÃ­as   19499\n",
      "             influx\n",
      "date               \n",
      "2010-01-01  1511363\n",
      "2010-01-02  2633052\n",
      "2010-01-03  2216448\n",
      "2010-01-04  4085108\n",
      "2010-01-05  4164143\n",
      "...             ...\n",
      "2022-12-27  2601231\n",
      "2022-12-28  2729371\n",
      "2022-12-29  2680794\n",
      "2022-12-30  2670616\n",
      "2022-12-31  1792434\n",
      "\n",
      "[4748 rows x 1 columns]\n"
     ]
    }
   ],
   "source": [
    "#metro_data['fecha'] = pd.to_datetime(metro_data['fecha'])\n",
    "#final_metro_df = metro_data.groupby(pd.Grouper(key='date', freq='D')).sum()\n",
    "metro_data.rename(columns={'fecha': 'date', 'anio': 'year', 'afluencia': 'influx'}, inplace=True)\n",
    "metro_data['date'] = pd.to_datetime(metro_data['date'])\n",
    "\n",
    "#Daily_summary = metro_data1.story_point.resample('D').sum()\n",
    "#metro_temp = metro_data.drop('year', axis=0)\n",
    "#metro_data.drop('mes', inplace=True, axis=1)\n",
    "#metro_data.drop('linea', inplace=True, axis=1)\n",
    "final_metro_df = metro_data.groupby(pd.Grouper(key='date', freq='D')).sum(\"influx\")\n",
    "final_metro_df.drop('year', inplace=True, axis=1)\n",
    "print(metro_data.head())\n",
    "print(final_metro_df)\n"
   ]
  },
  {
   "cell_type": "markdown",
   "metadata": {},
   "source": [
    "# Measures of centrality (Mean, Median)\n"
   ]
  },
  {
   "cell_type": "code",
   "execution_count": 87,
   "metadata": {},
   "outputs": [
    {
     "name": "stdout",
     "output_type": "stream",
     "text": [
      "Mean = 3979799.942291491\n",
      "Median = 4484359.0\n"
     ]
    }
   ],
   "source": [
    "metro_influx = final_metro_df[\"influx\"]\n",
    "#Getting the mean of the dataframe, however it is not entirely correct\n",
    "mean = metro_influx.mean()\n",
    "#Median\n",
    "median = metro_influx.median()\n",
    "print(f\"Mean = {mean}\")\n",
    "print(\"Median =\",median)"
   ]
  },
  {
   "cell_type": "markdown",
   "metadata": {},
   "source": [
    "# Measures of variability (STD, IQR, MAD)"
   ]
  },
  {
   "cell_type": "code",
   "execution_count": 88,
   "metadata": {},
   "outputs": [
    {
     "name": "stdout",
     "output_type": "stream",
     "text": [
      "Standard Deviation = 1251495.5608738768\n",
      "IQR = 2277734.0\n",
      "MAD = 1048370.2677385889\n"
     ]
    }
   ],
   "source": [
    "#Standard Deviation\n",
    "standard_deviation = metro_influx.std()\n",
    "#Interquartile range\n",
    "IQR = metro_influx.quantile(0.75) - metro_influx.quantile(0.25)\n",
    "#Median Absolute Deviation (MAD)\n",
    "MAD = robust.scale.mad(metro_influx)\n",
    "print(f\"Standard Deviation = {standard_deviation}\")\n",
    "print(f\"IQR = {IQR}\")\n",
    "print(\"MAD =\",MAD)\n"
   ]
  },
  {
   "cell_type": "markdown",
   "metadata": {},
   "source": [
    "# Exploring data"
   ]
  },
  {
   "cell_type": "markdown",
   "metadata": {},
   "source": [
    "#metro_influx.quantile([0.05,0.25,0.5,0.75,0.95])\n",
    "#Boxplot\n",
    "ax = (metro_influx/1000).plot.box()\n",
    "ax.set_ylabel(\"Influx (thousands)\")\n",
    "binnedInflux = pd.cut(metro_inlux, 10)\n",
    "binnedInflux.value_counts()"
   ]
  },
  {
   "cell_type": "code",
   "execution_count": null,
   "metadata": {},
   "outputs": [],
   "source": [
    " "
   ]
  }
 ],
 "metadata": {
  "kernelspec": {
   "display_name": "Python 3 (ipykernel)",
   "language": "python",
   "name": "python3"
  },
  "language_info": {
   "codemirror_mode": {
    "name": "ipython",
    "version": 3
   },
   "file_extension": ".py",
   "mimetype": "text/x-python",
   "name": "python",
   "nbconvert_exporter": "python",
   "pygments_lexer": "ipython3",
   "version": "3.11.0"
  },
  "vscode": {
   "interpreter": {
    "hash": "916dbcbb3f70747c44a77c7bcd40155683ae19c65e1c03b4aa3499c5328201f1"
   }
  }
 },
 "nbformat": 4,
 "nbformat_minor": 2
}
